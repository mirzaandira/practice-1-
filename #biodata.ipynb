#biodata
nama_depan=' Mirza'
nama_tengah=' Andira'
nama_belakang=' Nugraha'
nama_lengkap=nama_depan+nama_tengah+nama_belakang
usia='18'
alamat='Cibeureum'
kelas= 'TI22E'
jurusan='Teknik informatika' 
kata_mutiara= 'sedikit berbeda lebih baik daripada sedikit lebih baik'

print(nama_lengkap, '('+ usia +')',',','dari', alamat,  'kelas:', kelas, 'jurusan:',jurusan ,'kata mutiara:', kata_mutiara,)

